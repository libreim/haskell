{
 "cells": [
  {
   "cell_type": "markdown",
   "metadata": {},
   "source": [
    "# Haskell 101"
   ]
  },
  {
   "cell_type": "markdown",
   "metadata": {},
   "source": [
    "Este notebook contiene el código de una charla dada el día 10 de diciembre de 2016. Para una introducción más extensa puedes leer [estos apuntes](https://github.com/libreim/haskell/blob/master/apuntes/introHaskell.pdf) así como los recursos que enlazan. Idea original y código de [@pedritomelenas](https://github.com/pedritomelenas), con comentarios y modificaciones de [@mx-psi](https://github.com/mx-psi)."
   ]
  },
  {
   "cell_type": "markdown",
   "metadata": {},
   "source": [
    "## Introducción"
   ]
  },
  {
   "cell_type": "markdown",
   "metadata": {},
   "source": [
    "Haskell es un lenguaje de programación funcional puro con tipos fuertes y estáticos y evaluación perezosa. Un programa en Haskell se basa en una serie de definiciones en forma de ecuaciones. El compilador o intérprete evaluará cada expresión sustituyendo el lado izquierdo de la ecuación por el derecho, sustituyendo los argumentos si es necesario.\n",
    "\n",
    "Si **pruebas a descomentar la linea `a = 5`** obtendrás un error: las igualdades son definiciones y no asignaciones, y no podemos dar dos definiciones distintas de la misma cosa."
   ]
  },
  {
   "cell_type": "code",
   "execution_count": null,
   "metadata": {
    "collapsed": false
   },
   "outputs": [],
   "source": [
    "a :: Int\n",
    "a = 42\n",
    "--a = 5\n",
    "\n",
    "f :: Int -> Int\n",
    "f x = x + 2\n",
    "\n",
    "b = f a + f a + f a\n"
   ]
  },
  {
   "cell_type": "markdown",
   "metadata": {},
   "source": [
    "Como ves las funciones se escriben separando con espacios sus argumentos. En un lenguaje de programación imperativo no podemos en general optimizar el cálculo de `b`: debemos **calcular 3 veces `f a`** ya que podría devolver un valor aleatorio, comunicarse con el mundo real o cambiar variables globales. \n",
    "\n",
    "En Haskell podemos [razonar algebraicamente](https://stackoverflow.com/questions/210835) sobre nuestros programas y el compilador puede realizar toda clase de optimizaciones. **Situa el cursor en la siguiente celda y presiona `Ctrl+Enter` para evaluar `b`**."
   ]
  },
  {
   "cell_type": "code",
   "execution_count": null,
   "metadata": {
    "collapsed": false
   },
   "outputs": [],
   "source": [
    "b"
   ]
  },
  {
   "cell_type": "markdown",
   "metadata": {},
   "source": [
    "## El sistema de tipos"
   ]
  },
  {
   "cell_type": "markdown",
   "metadata": {},
   "source": [
    "Los tipos en Haskell son **fuertes** y **estáticos**. Se conoce el tipo de cada expresión en tiempo de compilación y los *castings* deben ser explícitos. Esto puede tener algunos inconvenientes, sin embargo los tipos son **inferidos**. \n",
    "\n",
    "A continuación algunas expresiones con tipos básicos como caracteres o cadenas de caracteres. El tipo de una expresión `expresion` se indica `expresion :: Tipo`. El nombre de los tipos empieza por mayúscula."
   ]
  },
  {
   "cell_type": "code",
   "execution_count": null,
   "metadata": {
    "collapsed": true
   },
   "outputs": [],
   "source": [
    "haskell :: String\n",
    "haskell = \"haskell.org/platform\"\n",
    "\n",
    "lambda :: Char\n",
    "lambda = 'λ' -- Permite Unicode\n",
    "\n",
    "e :: Double\n",
    "e = exp 1\n"
   ]
  },
  {
   "cell_type": "markdown",
   "metadata": {},
   "source": [
    "El sistema de inferencia de tipos permite conocer el tipo de una expresión a partir de los tipos de las expresiones que lo constituyen. De esta forma el compilador puede deducir que la constante `b` definida anteriormente tiene tipo `Int`. **Puedes comprobar el tipo de `expresion` indicando `:t expresion`**:"
   ]
  },
  {
   "cell_type": "code",
   "execution_count": null,
   "metadata": {
    "collapsed": false
   },
   "outputs": [],
   "source": [
    ":t b"
   ]
  },
  {
   "cell_type": "markdown",
   "metadata": {},
   "source": [
    "Expresar el tipo de cada función nos sirve a modo de documentación y lo haremos durante el resto de este notebook aunque no es necesario en la mayoría de los casos (puedes comprobarlo en el siguiente ejemplo que define la función `nand`). \n",
    "\n",
    "Cuando una función toma más de un argumento estos se separan por `->` (el por qué se explica en la sección de *currificación*)."
   ]
  },
  {
   "cell_type": "code",
   "execution_count": null,
   "metadata": {
    "collapsed": true
   },
   "outputs": [],
   "source": [
    "nand :: Bool -> Bool -> Bool\n",
    "nand x y = not (x && y)\n"
   ]
  },
  {
   "cell_type": "code",
   "execution_count": null,
   "metadata": {
    "collapsed": false
   },
   "outputs": [],
   "source": [
    ":t nand True False"
   ]
  },
  {
   "cell_type": "markdown",
   "metadata": {},
   "source": [
    "## Variables de tipo"
   ]
  },
  {
   "cell_type": "markdown",
   "metadata": {},
   "source": [
    "Algunas funciones no tienen por qué reducirse a un sólo tipo: la función `id` (la identidad), definida por la ecuación `id x = x` podría tomar `Int` como entrada, pero también `Char`, `String` o cualquier otro tipo que definamos. \n",
    "\n",
    "En estos casos Haskell utiliza **variables de tipo**, que pueden sustituirse por cualquier tipo. Así la función `id` tiene tipo $\\forall a: a \\to a$, ya que toma algo de un tipo arbitario $a$ y devuelve algo del mismo tipo. Las variables de tipo se indican **en minúscula**."
   ]
  },
  {
   "cell_type": "code",
   "execution_count": null,
   "metadata": {
    "collapsed": false
   },
   "outputs": [],
   "source": [
    ":t id"
   ]
  },
  {
   "cell_type": "markdown",
   "metadata": {},
   "source": [
    "En general podemos tener un número arbitrario de variables de tipo independientes: la función `const`, que toma dos argumentos y devuelve el primero tiene tipo $\\forall a \\; \\forall b: a \\to b \\to a$"
   ]
  },
  {
   "cell_type": "markdown",
   "metadata": {},
   "source": [
    "_**Ejercicio**: Define la función `const`_"
   ]
  },
  {
   "cell_type": "code",
   "execution_count": null,
   "metadata": {
    "collapsed": false
   },
   "outputs": [],
   "source": [
    "-- Ya está definida, así que le ponemos otro nombre\n",
    "-- La comilla es un caracter válido para los identificadores\n",
    "const' :: a -> b -> a"
   ]
  },
  {
   "cell_type": "markdown",
   "metadata": {},
   "source": [
    "## Patrones"
   ]
  },
  {
   "cell_type": "markdown",
   "metadata": {},
   "source": [
    "Como hemos visto en las secciones anteriores podemos definir una función utilizando el esquema:\n",
    "```haskell\n",
    "f x1 x2 ... xn = ...\n",
    "```\n",
    "de tal forma que los argumentos quedan ligados a las variables `x1` a `xn`. Haskell permite también definir las funciones por casos en función del tipo que escojamos.\n",
    "\n",
    "En el siguiente ejemplo definimos la función `niega :: Bool -> Bool` que define la negación lógica:"
   ]
  },
  {
   "cell_type": "code",
   "execution_count": null,
   "metadata": {
    "collapsed": true
   },
   "outputs": [],
   "source": [
    "niega True = False\n",
    "niega False = True"
   ]
  },
  {
   "cell_type": "markdown",
   "metadata": {},
   "source": [
    "Definimos la función para cada posible instancia del tipo. El compilador entonces evaluará en orden cada ecuación hasta que encuentre una en la que encaje. \n",
    "\n",
    "Podemos combinar las variables y los patrones como en el siguiente predicado que comprueba si un número es cero:"
   ]
  },
  {
   "cell_type": "code",
   "execution_count": null,
   "metadata": {
    "collapsed": true
   },
   "outputs": [],
   "source": [
    "esCero :: Int -> Bool\n",
    "esCero 0 = True\n",
    "esCero _ = False"
   ]
  },
  {
   "cell_type": "markdown",
   "metadata": {},
   "source": [
    "El símbolo `_` es una convención que indica que no va a utilizarse ese argumento."
   ]
  },
  {
   "cell_type": "markdown",
   "metadata": {},
   "source": [
    "_**Ejercicio**: Define la función `factorial:: Int -> Int`_"
   ]
  },
  {
   "cell_type": "code",
   "execution_count": null,
   "metadata": {
    "collapsed": true
   },
   "outputs": [],
   "source": [
    "factorial :: Int -> Int\n",
    "-- Necesitarás dos casos"
   ]
  },
  {
   "cell_type": "code",
   "execution_count": null,
   "metadata": {
    "collapsed": true
   },
   "outputs": [],
   "source": [
    "factorial 20"
   ]
  },
  {
   "cell_type": "markdown",
   "metadata": {},
   "source": [
    "_**Ejercicio**: Define la función `(&&) :: Bool -> Bool -> Bool` (conjunción lógica)_"
   ]
  },
  {
   "cell_type": "code",
   "execution_count": null,
   "metadata": {
    "collapsed": true
   },
   "outputs": [],
   "source": [
    "-- Como esta función ya está definida le ponemos otro nombre:\n",
    "y :: Bool -> Bool -> Bool"
   ]
  },
  {
   "cell_type": "code",
   "execution_count": null,
   "metadata": {
    "collapsed": false
   },
   "outputs": [],
   "source": [
    "-- Podemos llamar funciones de forma infija entre acentos graves\n",
    "True `y` False"
   ]
  },
  {
   "cell_type": "markdown",
   "metadata": {},
   "source": [
    "## Currificación"
   ]
  },
  {
   "cell_type": "markdown",
   "metadata": {},
   "source": [
    "Como hemos visto antes, las funciones con más de un argumento tienen un tipo de la forma `A -> (B -> C)`, en lugar del tipo `A×B -> C`. Esto se debe a la [currificación](https://en.wikipedia.org/wiki/Currying), la identificación entre las funciones:\n",
    "\n",
    "$$f : A \\times B \\to C \\qquad f(a,b) = c$$\n",
    "$$f : A \\to (B \\to C) \\qquad g = f(a), g(b) = c$$\n",
    "\n",
    "En lugar de tener una función que toma dos argumentos y devuelve un resultado, tenemos una función que toma un argumento y devuelve otra función que toma otro argumento para devolver el resultado. De esta forma podemos aplicar parcialmente funciones, como en el caso de la función `suma5`, que suma 5 a otra:"
   ]
  },
  {
   "cell_type": "code",
   "execution_count": null,
   "metadata": {
    "collapsed": true
   },
   "outputs": [],
   "source": [
    "suma5 = (5+)"
   ]
  },
  {
   "cell_type": "code",
   "execution_count": null,
   "metadata": {
    "collapsed": false
   },
   "outputs": [],
   "source": [
    "suma5 3"
   ]
  },
  {
   "cell_type": "markdown",
   "metadata": {},
   "source": [
    "Aunque no es habitual quizás ayude ver un ejemplo equivalente en Python, definiendo de forma currificada una función que suma dos números:\n",
    "\n",
    "```python\n",
    "def suma(x):\n",
    "  def sumax(y):\n",
    "    return x + y\n",
    "  return sumax\n",
    "\n",
    "```\n",
    "\n",
    "De esta forma `suma(2)` sería una función que suma 2, mientras que `suma(2)(3)` tendría el valor 5."
   ]
  },
  {
   "cell_type": "markdown",
   "metadata": {},
   "source": [
    "De esta forma podemos crear pequeñas funciones que componer para crear otras más complejas. Utilizando el operador `.` que compone funciones podemos crear por ejemplo una función que sume 12:"
   ]
  },
  {
   "cell_type": "code",
   "execution_count": null,
   "metadata": {
    "collapsed": true
   },
   "outputs": [],
   "source": [
    "suma7 =(7+)"
   ]
  },
  {
   "cell_type": "code",
   "execution_count": null,
   "metadata": {
    "collapsed": true
   },
   "outputs": [],
   "source": [
    "suma12  = suma5 . suma7"
   ]
  },
  {
   "cell_type": "code",
   "execution_count": null,
   "metadata": {
    "collapsed": false
   },
   "outputs": [],
   "source": [
    "suma12 9"
   ]
  },
  {
   "cell_type": "markdown",
   "metadata": {},
   "source": [
    "_**Ejercicio**: Define una función que indique si un número no es cero haciendo uso de la composición._"
   ]
  },
  {
   "cell_type": "code",
   "execution_count": null,
   "metadata": {
    "collapsed": true
   },
   "outputs": [],
   "source": [
    "noEsCero :: Int -> Bool\n",
    "noEsCero = _"
   ]
  },
  {
   "cell_type": "markdown",
   "metadata": {},
   "source": [
    "_**Ejercicio**: ¿Cuál es el tipo de la función `.`? Escribe su tipo y compruébalo en la siguiente celda._"
   ]
  },
  {
   "cell_type": "code",
   "execution_count": null,
   "metadata": {
    "collapsed": false
   },
   "outputs": [],
   "source": [
    ":t (.)"
   ]
  },
  {
   "cell_type": "markdown",
   "metadata": {},
   "source": [
    "## Listas"
   ]
  },
  {
   "cell_type": "markdown",
   "metadata": {},
   "source": [
    "Las listas almacenan colecciones ordenadas de valores de un tipo homogéneo. Su tamaño no es fijo, es decir, listas de distintos tamaños pertenecen al mismo tipo.\n",
    "\n",
    "Una lista se escribe entre corchetes, separando sus elementos por comas. La lista vacía se escribe `[]`:"
   ]
  },
  {
   "cell_type": "code",
   "execution_count": null,
   "metadata": {
    "collapsed": true
   },
   "outputs": [],
   "source": [
    "l1 :: [Int]\n",
    "l1 = [1,2,3]\n",
    "\n",
    "l2 = l1 ++ [4,5] -- Concatenar"
   ]
  },
  {
   "cell_type": "markdown",
   "metadata": {},
   "source": [
    "Como vemos, indicamos en el tipo que se trata de una lista de enteros. El operador `++` permite concatenar dos listas, mientras que el operador `:` permite anteponer un elemento a otra lista:"
   ]
  },
  {
   "cell_type": "code",
   "execution_count": null,
   "metadata": {
    "collapsed": false
   },
   "outputs": [],
   "source": [
    "0 : l2"
   ]
  },
  {
   "cell_type": "markdown",
   "metadata": {},
   "source": [
    "_**Ejercicio**: ¿Cuál es el tipo de la lista vacía? Compruébalo_"
   ]
  },
  {
   "cell_type": "code",
   "execution_count": null,
   "metadata": {
    "collapsed": false
   },
   "outputs": [],
   "source": [
    ":t []"
   ]
  },
  {
   "cell_type": "markdown",
   "metadata": {},
   "source": [
    "Para definir funciones sobre listas utilizamos el reconocimiento de patrones. En este caso definimos una función que nos devuelve el primer elemento de una lista (si la lista es vacía devolverá un `error`). Utilizamos el constructor `:`, que como vimos antes antepone un elemento a una lista.\n",
    "\n",
    "Esta función viene ya definida como `head`:"
   ]
  },
  {
   "cell_type": "code",
   "execution_count": null,
   "metadata": {
    "collapsed": false
   },
   "outputs": [],
   "source": [
    "cabeza :: [a] -> a\n",
    "cabeza [] = error \"Lista vacia\"\n",
    "cabeza (x:_) = x"
   ]
  },
  {
   "cell_type": "code",
   "execution_count": null,
   "metadata": {
    "collapsed": false
   },
   "outputs": [],
   "source": [
    "cabeza l2"
   ]
  },
  {
   "cell_type": "markdown",
   "metadata": {},
   "source": [
    "_**Ejercicio:** Define una función que devuelva la `cola` de una lista_"
   ]
  },
  {
   "cell_type": "code",
   "execution_count": null,
   "metadata": {
    "collapsed": true
   },
   "outputs": [],
   "source": [
    "cola :: [a] -> [a]\n",
    "cola [] = error \"Lista vacia\"\n",
    "--- ..."
   ]
  },
  {
   "cell_type": "markdown",
   "metadata": {},
   "source": [
    "Otro ejemplo es una función `longitud` que nos devuelva la longitud de una lista (finita). La longitud de una lista vacía es 0, mientras que la de una lista no vacía es uno más la longitud de su cola (la lista sin su primer elemento):"
   ]
  },
  {
   "cell_type": "code",
   "execution_count": null,
   "metadata": {
    "collapsed": true
   },
   "outputs": [],
   "source": [
    "longitud :: [a] -> Int\n",
    "longitud [] = 0\n",
    "longitud (_:xs) = 1 + longitud xs"
   ]
  },
  {
   "cell_type": "markdown",
   "metadata": {},
   "source": [
    "Si queremos calcular la longitud de `l1` el compilador hará algo equivalente a:\n",
    "\n",
    "```haskell\n",
    "longitud [1,2,3]\n",
    "1 + longitud [2,3]\n",
    "1 + (1 + longitud [3])\n",
    "1 + (1 + (1 + longitud []))\n",
    "1 + (1 + (1 + 0))\n",
    "1 + (1 + 1)\n",
    "1 + 2\n",
    "3\n",
    "```\n",
    "Esta función viene ya definida como `length` (aunque su tipo es más general ya que puede definirse también sobre otros tipos de estructuras que no sean listas):"
   ]
  },
  {
   "cell_type": "code",
   "execution_count": null,
   "metadata": {
    "collapsed": false
   },
   "outputs": [],
   "source": [
    "longitud l1"
   ]
  },
  {
   "cell_type": "markdown",
   "metadata": {},
   "source": [
    "La función `(!!) :: [a] -> Int -> a` nos permite acceder al elemento en . Es una función infija: cuando indicamos su tipo o la pasamos como argumento la escribimos entre paréntesis pero cuando la definimos o utilizamos la podemos poner de forma infija.\n",
    "\n",
    "La definimos aquí con 3 exclamaciones para no pisar la definición estandar:"
   ]
  },
  {
   "cell_type": "code",
   "execution_count": null,
   "metadata": {
    "collapsed": true
   },
   "outputs": [],
   "source": [
    "(!!!) :: [a] -> Int -> a\n",
    "[]     !!! _ = error \"Índice demasiado grande\"\n",
    "(x:_)  !!! 0 = x\n",
    "(_:xs) !!! n = xs !!! (n-1)"
   ]
  },
  {
   "cell_type": "code",
   "execution_count": null,
   "metadata": {
    "collapsed": false
   },
   "outputs": [],
   "source": [
    "[1,2,3] !!! 1"
   ]
  },
  {
   "cell_type": "markdown",
   "metadata": {},
   "source": [
    "Para llamarla de forma prefija le ponemos paréntesis:"
   ]
  },
  {
   "cell_type": "code",
   "execution_count": null,
   "metadata": {
    "collapsed": false
   },
   "outputs": [],
   "source": [
    "(!!!) [1,2,3] 0"
   ]
  },
  {
   "cell_type": "markdown",
   "metadata": {},
   "source": [
    "_**Ejercicio**: Define la función `++` que concatena dos listas_"
   ]
  },
  {
   "cell_type": "code",
   "execution_count": null,
   "metadata": {
    "collapsed": true
   },
   "outputs": [],
   "source": [
    "concatena :: [a] -> [a] -> [a]\n",
    "-- Tu definición"
   ]
  },
  {
   "cell_type": "code",
   "execution_count": null,
   "metadata": {
    "collapsed": false
   },
   "outputs": [],
   "source": [
    "[1,2] `concatena` [1,2] -- [1,2,1,2]"
   ]
  },
  {
   "cell_type": "markdown",
   "metadata": {},
   "source": [
    "## Funciones de orden superior"
   ]
  },
  {
   "cell_type": "markdown",
   "metadata": {},
   "source": [
    "Las listas son una parte fundamental de Haskell. Para trabajar con ellas suelen utilizarse **funciones de orden superior**: funciones que toman otras funciones como argumentos.\n",
    "\n",
    "Un primer ejemplo es la función `map :: (a -> b) -> [a] -> [b]`, que toma una función y nos devuelve su versión sobre listas:\n",
    "\n",
    "```\n",
    "map f [a1, a2, ..., an] = [f a1, f a2, ..., f an]\n",
    "```\n",
    "\n",
    "Su definición es la siguiente (escribimos `map'` para no redefinir la función que ya está incluida):"
   ]
  },
  {
   "cell_type": "code",
   "execution_count": null,
   "metadata": {
    "collapsed": true
   },
   "outputs": [],
   "source": [
    "map' :: (a -> b) -> [a] -> [b]\n",
    "map' f []     = []\n",
    "map' f (x:xs) = f x : map' f xs"
   ]
  },
  {
   "cell_type": "markdown",
   "metadata": {},
   "source": [
    "De esta forma y combinándolo con la aplicación parcial por la currificación podemos por ejemplo definir una función que tome una lista y sume 1 a todos sus elementos:"
   ]
  },
  {
   "cell_type": "code",
   "execution_count": null,
   "metadata": {
    "collapsed": true
   },
   "outputs": [],
   "source": [
    "suma1 = map (+1)\n",
    "-- Equivalentemente: suma1 xs = map (+1) xs"
   ]
  },
  {
   "cell_type": "code",
   "execution_count": null,
   "metadata": {
    "collapsed": false
   },
   "outputs": [],
   "source": [
    "suma1 [1,2,3]"
   ]
  },
  {
   "cell_type": "markdown",
   "metadata": {},
   "source": [
    "_**Ejercicio**: Define una función que tome una lista de listas y tome sus `cabezas`. Indica su tipo:_"
   ]
  },
  {
   "cell_type": "code",
   "execution_count": null,
   "metadata": {
    "collapsed": true
   },
   "outputs": [],
   "source": [
    "cabezas :: -- Indica su tipo\n",
    "cabezas = -- Su definición"
   ]
  },
  {
   "cell_type": "markdown",
   "metadata": {},
   "source": [
    "Otra función útil y más general es la función `foldr`, que toma una operación binaria y un valor por defecto y aplica esa operación a los elementos de una lista:\n",
    "```haskell\n",
    "foldr (⊕) z [a1,...,an] = a1 ⊕ (a2 ⊕ (... ⊕ (an ⊕ z)))\n",
    "```\n",
    "\n",
    "`foldr` puede utilizarse para definir cualquier función que siga el siguiente esquema:\n",
    "\n",
    "```haskell\n",
    "f [] = z\n",
    "f (x:xs) = x ⊕ f xs\n",
    "```\n",
    "\n",
    "Un ejemplo común es la función `sum`, que suma los elementos de una lista y que podemos definir como:\n",
    "\n",
    "```haskell\n",
    "sum []     = 0\n",
    "sum (x:xs) = x + sum xs\n",
    "```\n",
    "\n",
    "Utilizando `foldr` su definición se reduce a `sum = foldr (+) 0`:"
   ]
  },
  {
   "cell_type": "code",
   "execution_count": null,
   "metadata": {
    "collapsed": false
   },
   "outputs": [],
   "source": [
    "foldr (+) 0 [1,2,3]"
   ]
  },
  {
   "cell_type": "markdown",
   "metadata": {},
   "source": [
    "Un caso útil de la función `foldr` es su aplicación a los [monoides](https://hackage.haskell.org/package/base-4.9.0.0/docs/Data-Monoid.html), reduciendo una lista de elementos del monoide a uno sólo mediante la aplicación de la operación del monoide.\n",
    "\n",
    "_**Ejercicio**: Aprovechando la estructura de monoide de las funciones sobre un tipo define la función `compose :: [a -> a] -> a -> a` que compone una lista de funciones en una sola_"
   ]
  },
  {
   "cell_type": "code",
   "execution_count": null,
   "metadata": {
    "collapsed": true
   },
   "outputs": [],
   "source": [
    "compose :: [a -> a] -> a -> a\n",
    "compose = -- Tu definición"
   ]
  },
  {
   "cell_type": "code",
   "execution_count": null,
   "metadata": {
    "collapsed": true
   },
   "outputs": [],
   "source": [
    "compose [(+1),(*2),(+3)] 0 -- (0 + 3)*2 + 1"
   ]
  },
  {
   "cell_type": "markdown",
   "metadata": {},
   "source": [
    "_**Ejercicio**: Define las funciones `++`, `length` y `map` a partir de `foldr`_"
   ]
  },
  {
   "cell_type": "markdown",
   "metadata": {},
   "source": [
    "Un último ejemplo de función de orden superior es `filter`, que filtra una lista según un predicado:"
   ]
  },
  {
   "cell_type": "code",
   "execution_count": null,
   "metadata": {
    "collapsed": true
   },
   "outputs": [],
   "source": [
    "filtro:: (a->Bool) -> [a] -> [a]\n",
    "filtro f [] = []\n",
    "filtro f (x:xs) = if f x then x:(filtro f xs) else filtro f xs"
   ]
  },
  {
   "cell_type": "code",
   "execution_count": null,
   "metadata": {
    "collapsed": false
   },
   "outputs": [],
   "source": [
    "filtro (>0) [1,-2,3]"
   ]
  },
  {
   "cell_type": "markdown",
   "metadata": {},
   "source": [
    "## Definición de tipos "
   ]
  },
  {
   "cell_type": "markdown",
   "metadata": {},
   "source": [
    "Para definir un tipo se utiliza la palabra clave `data` y se definen distintos **constructores de datos** que empiezan por mayúscula y están separados por `|`. Estas funciones nos permiten crear instancias de ese tipo. Por ejemplo, el tipo `Bool` está definido:\n",
    "\n",
    "```haskell\n",
    "data Bool = False | True\n",
    "```\n",
    "\n",
    "De forma equivalente el tipo `Int` podría definirse listando todos los números (aunque en este caso la definición es primitiva):\n",
    "```haskell\n",
    "data Int = -9223372036854775808|...|-1|0|1|...|9223372036854775807\n",
    "```\n",
    "\n",
    "Cuando listamos los posibles casos de una función sólo podemos utilizar los constructores de datos para ello. Como primer ejemplo definimos un tipo `Forma` con 3 posibles instancias: triángulos,cuadrados y círculos y damos una función que nos indica si una forma es un polígono:"
   ]
  },
  {
   "cell_type": "code",
   "execution_count": null,
   "metadata": {
    "collapsed": true
   },
   "outputs": [],
   "source": [
    "data Forma = Triangulo | Cuadrado | Circulo -- :t Triangulo ?\n",
    "\n",
    "esPoligono :: Forma -> Bool\n",
    "esPoligono Triangulo = True\n",
    "esPoligono Cuadrado  = True\n",
    "esPoligono Circulo   = False"
   ]
  },
  {
   "cell_type": "markdown",
   "metadata": {},
   "source": [
    "Los constructores de datos también pueden tomar argumentos, en cuyo caso indicamos el tipo de los mismos. `deriving Show` nos permite mostrar instancias de un tipo como cadenas de caracteres.\n",
    "\n",
    "Definimos también una función que nos da la edad de una persona y otra que nos indica si dos personas tienen la misma edad:"
   ]
  },
  {
   "cell_type": "code",
   "execution_count": null,
   "metadata": {
    "collapsed": true
   },
   "outputs": [],
   "source": [
    "data Persona = P String Int deriving Show -- :t P ?\n",
    "\n",
    "-- Obtener la edad de una persona\n",
    "getEdad :: Persona -> Int\n",
    "getEdad (P nombre edad) = edad\n",
    "\n",
    "-- Tienen la misma edad?\n",
    "mismaEdad :: Persona -> Persona -> Bool\n",
    "mismaEdad (P _ e1) (P _ e2) = e1 == e2"
   ]
  },
  {
   "cell_type": "code",
   "execution_count": null,
   "metadata": {
    "collapsed": false
   },
   "outputs": [],
   "source": [
    "P \"Pedro\" 47"
   ]
  },
  {
   "cell_type": "markdown",
   "metadata": {},
   "source": [
    "En general un tipo puede tener un número arbitrario de constructores de datos con cualquier número de argumentos.\n",
    "\n",
    "Podemos definir los tipos de forma recursiva: un ejemplo clásico son los naturales definidos como en la aritmética de Peano: un natural puede ser el cero (`Z :: Nat`) o el sucesor de otro natural (`S :: Nat -> Nat` es la función sucesor).\n",
    "\n",
    "Definimos también la suma de naturales y una función que transforma naturales a enteros, así como el valor `infinito`:"
   ]
  },
  {
   "cell_type": "code",
   "execution_count": null,
   "metadata": {
    "collapsed": true
   },
   "outputs": [],
   "source": [
    "-- Tipos recursivos\n",
    "data Nat = Z | S Nat -- Naturales (Peano)\n",
    "\n",
    "suma :: Nat -> Nat -> Nat\n",
    "-- suma de naturales\n",
    "suma   Z   n = n\n",
    "suma (S n) m = S (suma n m)\n",
    "\n",
    "toInt :: Nat -> Int\n",
    "-- Pasar a entero\n",
    "toInt   Z   = 0\n",
    "toInt (S n) = 1 + toInt n\n",
    "\n",
    "infinito = S infinito"
   ]
  },
  {
   "cell_type": "code",
   "execution_count": null,
   "metadata": {
    "collapsed": false
   },
   "outputs": [],
   "source": [
    "toInt (S (S Z))"
   ]
  },
  {
   "cell_type": "markdown",
   "metadata": {},
   "source": [
    "_**Ejercicio**: Define mediante recursión mutua dos predicados que indiquen si un natural es `par` o `impar`_"
   ]
  },
  {
   "cell_type": "markdown",
   "metadata": {},
   "source": [
    "### Constructores de tipos"
   ]
  },
  {
   "cell_type": "markdown",
   "metadata": {},
   "source": [
    "Los **constructores de tipos** son funciones sobre tipos: toman uno o más tipos y devuelven un nuevo tipo. Ya hemos visto un caso concreto: el constructor de tipos lista `[]` que se definiría:\n",
    "\n",
    "```haskell\n",
    "data [a] = [] | a:[a] -- Sintaxis no legal\n",
    "```\n",
    "\n",
    "Es decir: una lista de tipo `a` puede ser la lista vacía o un elemento de tipo `a` antepuesto a una lista de tipo `a`. Otro ejemplo es el constructor de tipos `Either`, que nos permite crear un tipo que [*suma* otros dos](http://tux.ugr.es/dgiim/blog/2015/03/24/algebra-tipos):\n",
    "\n",
    "```haskell\n",
    "data Either a b = Left a | Right b\n",
    "```\n",
    "\n",
    "Como ejemplo final de esta sección definimos los árboles binarios de tipo `a` y una función que devuelve el reflejado de un árbol:"
   ]
  },
  {
   "cell_type": "code",
   "execution_count": null,
   "metadata": {
    "collapsed": true
   },
   "outputs": [],
   "source": [
    "data Tree a = Empty | Node a (Tree a) (Tree a)\n",
    "\n",
    "-- Árbol reflejado\n",
    "refl :: Tree a -> Tree a\n",
    "refl Empty = Empty\n",
    "refl (Node a t1 t2) = Node a (refl t2) (refl t1)\n"
   ]
  },
  {
   "cell_type": "markdown",
   "metadata": {},
   "source": [
    "_**Ejercicio**: Define una función que devuelva la `altura :: Tree a -> Int` de un árbol_"
   ]
  },
  {
   "cell_type": "markdown",
   "metadata": {},
   "source": [
    "## Clases de tipos"
   ]
  },
  {
   "cell_type": "markdown",
   "metadata": {},
   "source": [
    "Algunos tipos tienen propiedades comunes. Para aprovecharlas\n",
    "se definen **clases de tipos**, que agrupan tipos con la misma interfaz. La mayoría de los tipos son instancias de `Eq`, porque disponen de una función `(==)` que comprueba la igualdad. Las instancias de la clase `Num` pueden sumarse y multiplicarse, las de `Show` pueden convertirse a una `String` y las de `Ord` pueden ordenarse. \n",
    "\n",
    "Una clase de tipos se define a partir de las funciones que pueden utilizar de forma común los tipos que pertenecen a la misma. Por ejemplo, `Eq` se define:\n",
    "\n",
    "```haskell\n",
    "class  Eq a  where\n",
    "    (==) :: a -> a -> Bool\n",
    "    (/=) :: a -> a -> Bool\n",
    "    -- Sólo hace falta definir uno, el otro por defecto:\n",
    "    x /= y =  not (x == y)\n",
    "    x == y =  not (x /= y)\n",
    "```\n",
    "\n",
    "Como ejemplo declaramos como instancia de la clase `Eq` al tipo de los naturales `Nat`:"
   ]
  },
  {
   "cell_type": "code",
   "execution_count": null,
   "metadata": {
    "collapsed": true
   },
   "outputs": [],
   "source": [
    "instance Eq Nat where\n",
    "  Z   == Z   = True\n",
    "  S n == S m = n == m\n",
    "  _   ==  _  = False"
   ]
  },
  {
   "cell_type": "code",
   "execution_count": null,
   "metadata": {
    "collapsed": false
   },
   "outputs": [],
   "source": [
    "S Z == infinito"
   ]
  },
  {
   "cell_type": "markdown",
   "metadata": {},
   "source": [
    "Otro ejemplo serían los árboles, pero en estos debemos imponer la restricción de que el tipo de sus elementos sea comparable por igualdad:"
   ]
  },
  {
   "cell_type": "code",
   "execution_count": null,
   "metadata": {
    "collapsed": false
   },
   "outputs": [],
   "source": [
    "instance (Eq a) => Eq (Tree a) where\n",
    "  Empty        == Empty           = True\n",
    "  Node a t1 t2 == Node a' t1' t2' = a == a' \n",
    "                                  && t1 == t1' && t2 == t2'"
   ]
  },
  {
   "cell_type": "markdown",
   "metadata": {},
   "source": [
    "Cuando una función toma tipos que deben ser de una cierta clase se indica en su declaración de tipo con `=>`. Por ejemplo la función `elem` nos indica si un valor es elemento de una lista:\n",
    "\n",
    "```haskell\n",
    "elem :: (Eq a) => a -> [a] -> Bool\n",
    "x `elem` []     = False\n",
    "x `elem` (y:ys) = x == y || x `elem` ys\n",
    "```"
   ]
  },
  {
   "cell_type": "code",
   "execution_count": null,
   "metadata": {
    "collapsed": false
   },
   "outputs": [],
   "source": [
    "1 `elem` [2,3,4]"
   ]
  },
  {
   "cell_type": "markdown",
   "metadata": {},
   "source": [
    "## Functores"
   ]
  },
  {
   "cell_type": "markdown",
   "metadata": {},
   "source": [
    "Por último definimos una clase de tipos sobre constructores de tipos de uso habitual: los functores.\n",
    "\n",
    "Un functor `f` es un contenedor o un contexto computacional sobre el que podemos definir una función `fmap :: (Functor f) => (a -> b) -> f a -> f b` que aplique una función `a -> b` sobre todos los elementos de una estructura `f a` para devolver otra `f b`.\n",
    "\n",
    "Un ejemplo de functores serían las listas, para las que `fmap` es la función `map`."
   ]
  },
  {
   "cell_type": "code",
   "execution_count": null,
   "metadata": {
    "collapsed": false
   },
   "outputs": [],
   "source": [
    "fmap (++\"!\") [\"Azúcar\", \"Especias\", \"Cosas bonitas\"]"
   ]
  },
  {
   "cell_type": "markdown",
   "metadata": {},
   "source": [
    "Toda instancia de la clase `Functor` debe cumplir las siguiente **leyes**:\n",
    "\n",
    "```haskell\n",
    "fmap id         == id\n",
    "fmap f . fmap g == fmap (f . g)\n",
    "```\n",
    "\n",
    "Estas leyes vienen de la [teoría de categorías](https://en.wikipedia.org/wiki/Functor) y permiten realizar toda clase de optimizaciones al código escrito con functores.\n",
    "\n",
    "Como último ejemplo definimos `Tree` como instancia de los functores:"
   ]
  },
  {
   "cell_type": "code",
   "execution_count": null,
   "metadata": {
    "collapsed": true
   },
   "outputs": [],
   "source": [
    "instance Functor Tree where\n",
    "  fmap f Empty          = Empty\n",
    "  fmap f (Node a t1 t2) = Node (f a) (fmap f t1) (fmap f t2)"
   ]
  },
  {
   "cell_type": "markdown",
   "metadata": {},
   "source": [
    "# Para saber más"
   ]
  },
  {
   "cell_type": "markdown",
   "metadata": {},
   "source": [
    "Si quieres **aprender más** puedes echar un vistazo a los recursos disponibles en [libreim/haskell](https://github.com/libreim/haskell#haskell)."
   ]
  }
 ],
 "metadata": {
  "kernelspec": {
   "display_name": "Haskell",
   "language": "haskell",
   "name": "haskell"
  },
  "language_info": {
   "codemirror_mode": "ihaskell",
   "file_extension": ".hs",
   "name": "haskell",
   "version": "7.10.2"
  }
 },
 "nbformat": 4,
 "nbformat_minor": 0
}
